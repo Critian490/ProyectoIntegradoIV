version https://git-lfs.github.com/spec/v1
oid sha256:6f198f1d55a8fe1a2b6449f15c61c2a417178bd182afaf802fbbefac25da17b4
size 427458
